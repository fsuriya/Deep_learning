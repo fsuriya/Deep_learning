{
    "nbformat_minor": 1,
    "cells": [
        {
            "source": [
                "import types\n",
                "import pandas as pd\n",
                "from ibm_botocore.client import Config\n",
                "import ibm_boto3\n",
                "\n",
                "def __iter__(self): return 0\n",
                "\n",
                "# @hidden_cell\n",
                "# The following code accesses a file in your IBM Cloud Object Storage. It includes your credentials.\n",
                "# You might want to remove those credentials before you share your notebook.\n",
                "client_d78d64b47cbc42798f929e203df42582 = ibm_boto3.client(service_name='s3',\n",
                "    ibm_api_key_id='1R0XfMSpYMRLtiIJFQm3igvZfTvpz0iU7cGnqTG4au-1',\n",
                "    ibm_auth_endpoint=\"https://iam.bluemix.net/oidc/token\",\n",
                "    config=Config(signature_version='oauth'),\n",
                "    endpoint_url='https://s3.eu-geo.objectstorage.service.networklayer.com')\n",
                "\n",
                "body = client_d78d64b47cbc42798f929e203df42582.get_object(Bucket='default-donotdelete-pr-zfs2ic36wlwaip',Key='DCOILBRENTEU.csv')['Body']\n",
                "# add missing __iter__ method, so pandas accepts body as file-like object\n",
                "if not hasattr(body, \"__iter__\"): body.__iter__ = types.MethodType( __iter__, body )\n",
                "\n",
                "df_data_1 = pd.read_csv(body)\n",
                "df_data_1.head()\n",
                "\n"
            ],
            "cell_type": "code",
            "metadata": {},
            "outputs": [
                {
                    "output_type": "error",
                    "ename": "ModuleNotFoundError",
                    "evalue": "No module named 'ibm_botocore'",
                    "traceback": [
                        "\u001b[1;31m---------------------------------------------------------------------------\u001b[0m",
                        "\u001b[1;31mModuleNotFoundError\u001b[0m                       Traceback (most recent call last)",
                        "\u001b[1;32m<ipython-input-1-e6705fd04c1e>\u001b[0m in \u001b[0;36m<module>\u001b[1;34m\u001b[0m\n\u001b[0;32m      1\u001b[0m \u001b[1;32mimport\u001b[0m \u001b[0mtypes\u001b[0m\u001b[1;33m\u001b[0m\u001b[1;33m\u001b[0m\u001b[0m\n\u001b[0;32m      2\u001b[0m \u001b[1;32mimport\u001b[0m \u001b[0mpandas\u001b[0m \u001b[1;32mas\u001b[0m \u001b[0mpd\u001b[0m\u001b[1;33m\u001b[0m\u001b[1;33m\u001b[0m\u001b[0m\n\u001b[1;32m----> 3\u001b[1;33m \u001b[1;32mfrom\u001b[0m \u001b[0mibm_botocore\u001b[0m\u001b[1;33m.\u001b[0m\u001b[0mclient\u001b[0m \u001b[1;32mimport\u001b[0m \u001b[0mConfig\u001b[0m\u001b[1;33m\u001b[0m\u001b[1;33m\u001b[0m\u001b[0m\n\u001b[0m\u001b[0;32m      4\u001b[0m \u001b[1;32mimport\u001b[0m \u001b[0mibm_boto3\u001b[0m\u001b[1;33m\u001b[0m\u001b[1;33m\u001b[0m\u001b[0m\n\u001b[0;32m      5\u001b[0m \u001b[1;33m\u001b[0m\u001b[0m\n",
                        "\u001b[1;31mModuleNotFoundError\u001b[0m: No module named 'ibm_botocore'"
                    ]
                }
            ],
            "execution_count": 1
        },
        {
            "source": [
                "Data Source\n",
                "\n",
                "U.S. Energy Information Administration, Crude Oil Prices: Brent - Europe [DCOILBRENTEU], retrieved from FRED, Federal Reserve Bank of St. Louis; https://fred.stlouisfed.org/series/DCOILBRENTEU, January 10, 2018."
            ],
            "cell_type": "markdown",
            "metadata": {}
        },
        {
            "source": [
                "df_data_1 = df_data_1[df_data_1.DCOILBRENTEU != \".\"]\n",
                "print df_data_1.shape"
            ],
            "cell_type": "code",
            "metadata": {},
            "outputs": [
                {
                    "output_type": "stream",
                    "name": "stdout",
                    "text": "(7609, 2)\n"
                }
            ],
            "execution_count": 2
        },
        {
            "source": [
                "import matplotlib.pyplot as plt\n",
                "df_data_1_plot = df_data_1.iloc[:,1:2].values\n",
                "# Visualising the Data\n",
                "plt.plot(df_data_1_plot, color = 'red', label = 'Crude Oil Prices')\n",
                "plt.title('Crude Oil Prices Historical Data')\n",
                "plt.xlabel('Time (Days)')\n",
                "plt.ylabel('Crude Oil Prices')\n",
                "plt.legend()\n",
                "plt.show()"
            ],
            "cell_type": "code",
            "metadata": {},
            "outputs": [
                {
                    "output_type": "display_data",
                    "data": {
                        "image/png": "[encoded data removed]",
                        "text/plain": "<matplotlib.figure.Figure at 0x7fab33e01390>"
                    },
                    "metadata": {}
                }
            ],
            "execution_count": 4
        },
        {
            "source": [
                "#import packages\n",
                "import numpy as np\n",
                "import pandas as pd\n",
                "from keras.preprocessing import sequence\n",
                "from keras.models import load_model"
            ],
            "cell_type": "code",
            "metadata": {},
            "outputs": [
                {
                    "output_type": "stream",
                    "name": "stderr",
                    "text": "Using TensorFlow backend.\n"
                }
            ],
            "execution_count": 5
        },
        {
            "source": [
                "# defining the batch size and number of epochs\n",
                "batch_size = 64\n",
                "epochs = 120\n",
                "timesteps = 30"
            ],
            "cell_type": "code",
            "metadata": {},
            "outputs": [],
            "execution_count": 6
        },
        {
            "source": [
                "length = len(df_data_1)\n",
                "print length\n",
                "\n",
                "#test set will be 10% of entire data set  \n",
                "length *= 1 - 0.1\n",
                "print length"
            ],
            "cell_type": "code",
            "metadata": {},
            "outputs": [
                {
                    "output_type": "stream",
                    "name": "stdout",
                    "text": "7609\n6848.1\n"
                }
            ],
            "execution_count": 7
        },
        {
            "source": [
                "#get the length of training data set \n",
                "def get_train_length(dataset, batch_size, test_percent):\n",
                "    # substract test_percent to be excluded from training, reserved for testset\n",
                "    length = len(dataset)\n",
                "    length *= 1 - test_percent\n",
                "    train_length_values = []\n",
                "    for x in range(int(length) - 100,int(length)): \n",
                "        modulo=x%batch_size\n",
                "        if (modulo == 0):\n",
                "            train_length_values.append(x)\n",
                "            print x\n",
                "    return (max(train_length_values))"
            ],
            "cell_type": "code",
            "metadata": {},
            "outputs": [],
            "execution_count": 8
        },
        {
            "source": [
                "length = get_train_length(df_data_1, batch_size, 0.1)\n",
                "print length"
            ],
            "cell_type": "code",
            "metadata": {},
            "outputs": [
                {
                    "output_type": "stream",
                    "name": "stdout",
                    "text": "6784\n6784\n"
                }
            ],
            "execution_count": 9
        },
        {
            "source": [
                "#Adding timesteps * 2\n",
                "upper_train = length + timesteps*2\n",
                "df_data_1_train = df_data_1[0:upper_train]\n",
                "training_set = df_data_1_train.iloc[:,1:2].values\n",
                "training_set.shape"
            ],
            "cell_type": "code",
            "metadata": {},
            "outputs": [
                {
                    "output_type": "execute_result",
                    "data": {
                        "text/plain": "(6844, 1)"
                    },
                    "execution_count": 10,
                    "metadata": {}
                }
            ],
            "execution_count": 10
        },
        {
            "source": [
                "# Feature Scaling i.e we scale each and every value between 0 and 1 \n",
                "from sklearn.preprocessing import MinMaxScaler\n",
                "sc = MinMaxScaler(feature_range = (0, 1))\n",
                "training_set_scaled = sc.fit_transform(np.float64(training_set))\n",
                "training_set_scaled.shape"
            ],
            "cell_type": "code",
            "metadata": {},
            "outputs": [
                {
                    "output_type": "execute_result",
                    "data": {
                        "text/plain": "(6844, 1)"
                    },
                    "execution_count": 11,
                    "metadata": {}
                }
            ],
            "execution_count": 11
        },
        {
            "source": [
                "X_train = []\n",
                "y_train = []\n",
                "\n",
                "# Creating a data structure with n timesteps\n",
                "\n",
                "print length + timesteps\n",
                "for i in range(timesteps, length + timesteps): \n",
                "    X_train.append(training_set_scaled[i-timesteps:i,0])\n",
                "    y_train.append(training_set_scaled[i:i+timesteps,0])\n",
                "\n",
                "print len(X_train)\n",
                "print len (y_train)\n",
                "print np.array(X_train).shape\n",
                "print np.array(y_train).shape"
            ],
            "cell_type": "code",
            "metadata": {},
            "outputs": [
                {
                    "output_type": "stream",
                    "name": "stdout",
                    "text": "6814\n6784\n6784\n(6784, 30)\n(6784, 30)\n"
                }
            ],
            "execution_count": 12
        },
        {
            "source": [
                "# Reshaping\n",
                "X_train, y_train = np.array(X_train), np.array(y_train)\n",
                "X_train = np.reshape(X_train, (X_train.shape[0], X_train.shape[1], 1))\n",
                "y_train = np.reshape(y_train, (y_train.shape[0], y_train.shape[1], 1))\n",
                "print X_train.shape\n",
                "print y_train.shape"
            ],
            "cell_type": "code",
            "metadata": {},
            "outputs": [
                {
                    "output_type": "stream",
                    "name": "stdout",
                    "text": "(6784, 30, 1)\n(6784, 30, 1)\n"
                }
            ],
            "execution_count": 13
        },
        {
            "source": [
                "# Building the LSTM\n",
                "# Importing the Keras libraries and packages\n",
                "\n",
                "from keras.layers import Dense\n",
                "from keras.layers import Input, LSTM\n",
                "from keras.models import Model\n",
                "import h5py"
            ],
            "cell_type": "code",
            "metadata": {},
            "outputs": [],
            "execution_count": 14
        },
        {
            "source": [
                "# Initialising the LSTM Model with MAE Loss-Function\n",
                "# Using Functional API\n",
                "\n",
                "inputs_1_mae = Input(batch_shape=(batch_size,timesteps,1))\n",
                "lstm_1_mae = LSTM(10, stateful=True, return_sequences=True)(inputs_1_mae)\n",
                "lstm_2_mae = LSTM(10, stateful=True, return_sequences=True)(lstm_1_mae)\n",
                "\n",
                "output_1_mae = Dense(units = 1)(lstm_2_mae)\n",
                "\n",
                "regressor_mae = Model(inputs=inputs_1_mae, outputs = output_1_mae)\n",
                "\n",
                "regressor_mae.compile(optimizer='adam', loss = 'mae')\n",
                "regressor_mae.summary()"
            ],
            "cell_type": "code",
            "metadata": {},
            "outputs": [
                {
                    "output_type": "stream",
                    "name": "stdout",
                    "text": "WARNING:tensorflow:From /usr/local/src/bluemix_jupyter_bundle.v104/notebook/lib/python2.7/site-packages/keras/backend/tensorflow_backend.py:1297: calling reduce_mean (from tensorflow.python.ops.math_ops) with keep_dims is deprecated and will be removed in a future version.\nInstructions for updating:\nkeep_dims is deprecated, use keepdims instead\n_________________________________________________________________\nLayer (type)                 Output Shape              Param #   \n=================================================================\ninput_1 (InputLayer)         (64, 30, 1)               0         \n_________________________________________________________________\nlstm_1 (LSTM)                (64, 30, 10)              480       \n_________________________________________________________________\nlstm_2 (LSTM)                (64, 30, 10)              840       \n_________________________________________________________________\ndense_1 (Dense)              (64, 30, 1)               11        \n=================================================================\nTotal params: 1,331\nTrainable params: 1,331\nNon-trainable params: 0\n_________________________________________________________________\n"
                }
            ],
            "execution_count": 15
        },
        {
            "source": [
                "# 1st LSTM Layer \n",
                "parameters = 4 * 10 * (1 + 10 + 1)\n",
                "print parameters"
            ],
            "cell_type": "code",
            "metadata": {},
            "outputs": [
                {
                    "output_type": "stream",
                    "name": "stdout",
                    "text": "480\n"
                }
            ],
            "execution_count": 16
        },
        {
            "source": [
                "# 2nd LSTM Layer \n",
                "parameters = 4 * 10 * (10 + 10 + 1)\n",
                "print parameters"
            ],
            "cell_type": "code",
            "metadata": {},
            "outputs": [
                {
                    "output_type": "stream",
                    "name": "stdout",
                    "text": "840\n"
                }
            ],
            "execution_count": 17
        },
        {
            "source": [
                "for i in range(epochs):\n",
                "    print(\"Epoch: \" + str(i))\n",
                "    regressor_mae.fit(X_train, y_train, shuffle=False, epochs = 1, batch_size = batch_size)\n",
                "    regressor_mae.reset_states()"
            ],
            "cell_type": "code",
            "metadata": {},
            "outputs": [
                {
                    "output_type": "stream",
                    "name": "stdout",
                    "text": "Epoch: 0\nEpoch 1/1\n6784/6784 [==============================] - 5s - loss: 0.0743     \nEpoch: 1\nEpoch 1/1\n6784/6784 [==============================] - 2s - loss: 0.0751     \nEpoch: 2\nEpoch 1/1\n6784/6784 [==============================] - 2s - loss: 0.0661     \nEpoch: 3\nEpoch 1/1\n6784/6784 [==============================] - 2s - loss: 0.0660     - ETA: 0s - loss: 0\nEpoch: 4\nEpoch 1/1\n6784/6784 [==============================] - 2s - loss: 0.0653     \nEpoch: 5\nEpoch 1/1\n6784/6784 [==============================] - 2s - loss: 0.0632     \nEpoch: 6\nEpoch 1/1\n6784/6784 [==============================] - 2s - loss: 0.0602     \nEpoch: 7\nEpoch 1/1\n6784/6784 [==============================] - 2s - loss: 0.0569     \nEpoch: 8\nEpoch 1/1\n6784/6784 [==============================] - 2s - loss: 0.0540     \nEpoch: 9\nEpoch 1/1\n6784/6784 [==============================] - 2s - loss: 0.0522     \nEpoch: 10\nEpoch 1/1\n6784/6784 [==============================] - 2s - loss: 0.0508     \nEpoch: 11\nEpoch 1/1\n6784/6784 [==============================] - 2s - loss: 0.0499     \nEpoch: 12\nEpoch 1/1\n6784/6784 [==============================] - 2s - loss: 0.0492     \nEpoch: 13\nEpoch 1/1\n6784/6784 [==============================] - 2s - loss: 0.0486     \nEpoch: 14\nEpoch 1/1\n6784/6784 [==============================] - 2s - loss: 0.0480     \nEpoch: 15\nEpoch 1/1\n6784/6784 [==============================] - 2s - loss: 0.0475     \nEpoch: 16\nEpoch 1/1\n6784/6784 [==============================] - 2s - loss: 0.0471     \nEpoch: 17\nEpoch 1/1\n6784/6784 [==============================] - 2s - loss: 0.0467     \nEpoch: 18\nEpoch 1/1\n6784/6784 [==============================] - 2s - loss: 0.0464     \nEpoch: 19\nEpoch 1/1\n6784/6784 [==============================] - 2s - loss: 0.0461     \nEpoch: 20\nEpoch 1/1\n6784/6784 [==============================] - 2s - loss: 0.0458     \nEpoch: 21\nEpoch 1/1\n6784/6784 [==============================] - 2s - loss: 0.0455     \nEpoch: 22\nEpoch 1/1\n6784/6784 [==============================] - 2s - loss: 0.0452     \nEpoch: 23\nEpoch 1/1\n6784/6784 [==============================] - 2s - loss: 0.0449     \nEpoch: 24\nEpoch 1/1\n6784/6784 [==============================] - 2s - loss: 0.0447     \nEpoch: 25\nEpoch 1/1\n6784/6784 [==============================] - 2s - loss: 0.0444     \nEpoch: 26\nEpoch 1/1\n6784/6784 [==============================] - 2s - loss: 0.0442     \nEpoch: 27\nEpoch 1/1\n6784/6784 [==============================] - 2s - loss: 0.0440     \nEpoch: 28\nEpoch 1/1\n6784/6784 [==============================] - 2s - loss: 0.0438     \nEpoch: 29\nEpoch 1/1\n6784/6784 [==============================] - 2s - loss: 0.0436     \nEpoch: 30\nEpoch 1/1\n6784/6784 [==============================] - 2s - loss: 0.0433     \nEpoch: 31\nEpoch 1/1\n6784/6784 [==============================] - 2s - loss: 0.0431     \nEpoch: 32\nEpoch 1/1\n6784/6784 [==============================] - 2s - loss: 0.0429     \nEpoch: 33\nEpoch 1/1\n6784/6784 [==============================] - 2s - loss: 0.0427     \nEpoch: 34\nEpoch 1/1\n6784/6784 [==============================] - 2s - loss: 0.0426     \nEpoch: 35\nEpoch 1/1\n6784/6784 [==============================] - 2s - loss: 0.0424     \nEpoch: 36\nEpoch 1/1\n6784/6784 [==============================] - 2s - loss: 0.0423     \nEpoch: 37\nEpoch 1/1\n6784/6784 [==============================] - 2s - loss: 0.0422     \nEpoch: 38\nEpoch 1/1\n6784/6784 [==============================] - 2s - loss: 0.0420     \nEpoch: 39\nEpoch 1/1\n6784/6784 [==============================] - 2s - loss: 0.0419     \nEpoch: 40\nEpoch 1/1\n6784/6784 [==============================] - 2s - loss: 0.0418     \nEpoch: 41\nEpoch 1/1\n6784/6784 [==============================] - 2s - loss: 0.0417     \nEpoch: 42\nEpoch 1/1\n6784/6784 [==============================] - 2s - loss: 0.0415     \nEpoch: 43\nEpoch 1/1\n6784/6784 [==============================] - 2s - loss: 0.0414     \nEpoch: 44\nEpoch 1/1\n6784/6784 [==============================] - 2s - loss: 0.0413     \nEpoch: 45\nEpoch 1/1\n6784/6784 [==============================] - 2s - loss: 0.0411     \nEpoch: 46\nEpoch 1/1\n6784/6784 [==============================] - 2s - loss: 0.0412     \nEpoch: 47\nEpoch 1/1\n6784/6784 [==============================] - 2s - loss: 0.0410     \nEpoch: 48\nEpoch 1/1\n6784/6784 [==============================] - 2s - loss: 0.0415     \nEpoch: 49\nEpoch 1/1\n6784/6784 [==============================] - 2s - loss: 0.0411     \nEpoch: 50\nEpoch 1/1\n6784/6784 [==============================] - 2s - loss: 0.0411     \nEpoch: 51\nEpoch 1/1\n6784/6784 [==============================] - 2s - loss: 0.0408     \nEpoch: 52\nEpoch 1/1\n6784/6784 [==============================] - 2s - loss: 0.0405     \nEpoch: 53\nEpoch 1/1\n6784/6784 [==============================] - 2s - loss: 0.0403     \nEpoch: 54\nEpoch 1/1\n6784/6784 [==============================] - 2s - loss: 0.0402     \nEpoch: 55\nEpoch 1/1\n6784/6784 [==============================] - 2s - loss: 0.0402     \nEpoch: 56\nEpoch 1/1\n6784/6784 [==============================] - 2s - loss: 0.0401     \nEpoch: 57\nEpoch 1/1\n6784/6784 [==============================] - 2s - loss: 0.0401     \nEpoch: 58\nEpoch 1/1\n6784/6784 [==============================] - 2s - loss: 0.0400     \nEpoch: 59\nEpoch 1/1\n6784/6784 [==============================] - 2s - loss: 0.0400     \nEpoch: 60\nEpoch 1/1\n6784/6784 [==============================] - 2s - loss: 0.0398     \nEpoch: 61\nEpoch 1/1\n6784/6784 [==============================] - 2s - loss: 0.0399     \nEpoch: 62\nEpoch 1/1\n6784/6784 [==============================] - 2s - loss: 0.0397     \nEpoch: 63\nEpoch 1/1\n6784/6784 [==============================] - 2s - loss: 0.0397     \nEpoch: 64\nEpoch 1/1\n6784/6784 [==============================] - 2s - loss: 0.0395     \nEpoch: 65\nEpoch 1/1\n6784/6784 [==============================] - 2s - loss: 0.0396     \nEpoch: 66\nEpoch 1/1\n6784/6784 [==============================] - 2s - loss: 0.0394     \nEpoch: 67\nEpoch 1/1\n6784/6784 [==============================] - 2s - loss: 0.0394     \nEpoch: 68\nEpoch 1/1\n6784/6784 [==============================] - 2s - loss: 0.0393     \nEpoch: 69\nEpoch 1/1\n6784/6784 [==============================] - 2s - loss: 0.0392     \nEpoch: 70\nEpoch 1/1\n6784/6784 [==============================] - 2s - loss: 0.0392     \nEpoch: 71\nEpoch 1/1\n6784/6784 [==============================] - 2s - loss: 0.0391     \nEpoch: 72\nEpoch 1/1\n6784/6784 [==============================] - 2s - loss: 0.0391     \nEpoch: 73\nEpoch 1/1\n6784/6784 [==============================] - 2s - loss: 0.0390     \nEpoch: 74\nEpoch 1/1\n6784/6784 [==============================] - 2s - loss: 0.0389     \nEpoch: 75\nEpoch 1/1\n6784/6784 [==============================] - 2s - loss: 0.0388     \nEpoch: 76\nEpoch 1/1\n6784/6784 [==============================] - 2s - loss: 0.0387     \nEpoch: 77\nEpoch 1/1\n6784/6784 [==============================] - 2s - loss: 0.0387     \nEpoch: 78\nEpoch 1/1\n6784/6784 [==============================] - 2s - loss: 0.0386     \nEpoch: 79\nEpoch 1/1\n6784/6784 [==============================] - 2s - loss: 0.0386     \nEpoch: 80\nEpoch 1/1\n6784/6784 [==============================] - 2s - loss: 0.0386     \nEpoch: 81\nEpoch 1/1\n6784/6784 [==============================] - 2s - loss: 0.0384     \nEpoch: 82\nEpoch 1/1\n6784/6784 [==============================] - 2s - loss: 0.0384     \nEpoch: 83\nEpoch 1/1\n6784/6784 [==============================] - 2s - loss: 0.0382     \nEpoch: 84\nEpoch 1/1\n6784/6784 [==============================] - 2s - loss: 0.0382     \nEpoch: 85\nEpoch 1/1\n6784/6784 [==============================] - 2s - loss: 0.0381     \nEpoch: 86\nEpoch 1/1\n6784/6784 [==============================] - 2s - loss: 0.0380     \nEpoch: 87\nEpoch 1/1\n6784/6784 [==============================] - 2s - loss: 0.0379     \nEpoch: 88\nEpoch 1/1\n6784/6784 [==============================] - 2s - loss: 0.0379     \nEpoch: 89\nEpoch 1/1\n6784/6784 [==============================] - 2s - loss: 0.0377     \nEpoch: 90\nEpoch 1/1\n6784/6784 [==============================] - 2s - loss: 0.0379     \nEpoch: 91\nEpoch 1/1\n6784/6784 [==============================] - 2s - loss: 0.0376     \nEpoch: 92\nEpoch 1/1\n6784/6784 [==============================] - 2s - loss: 0.0378     \nEpoch: 93\nEpoch 1/1\n"
                },
                {
                    "output_type": "stream",
                    "name": "stdout",
                    "text": "6784/6784 [==============================] - 2s - loss: 0.0377     \nEpoch: 94\nEpoch 1/1\n6784/6784 [==============================] - 2s - loss: 0.0375     \nEpoch: 95\nEpoch 1/1\n6784/6784 [==============================] - 2s - loss: 0.0375     \nEpoch: 96\nEpoch 1/1\n6784/6784 [==============================] - 2s - loss: 0.0374     \nEpoch: 97\nEpoch 1/1\n6784/6784 [==============================] - 2s - loss: 0.0374     \nEpoch: 98\nEpoch 1/1\n6784/6784 [==============================] - 2s - loss: 0.0373     \nEpoch: 99\nEpoch 1/1\n6784/6784 [==============================] - 2s - loss: 0.0373     \nEpoch: 100\nEpoch 1/1\n6784/6784 [==============================] - 2s - loss: 0.0372     \nEpoch: 101\nEpoch 1/1\n6784/6784 [==============================] - 2s - loss: 0.0372     \nEpoch: 102\nEpoch 1/1\n6784/6784 [==============================] - 2s - loss: 0.0371     \nEpoch: 103\nEpoch 1/1\n6784/6784 [==============================] - 2s - loss: 0.0371     - ET\nEpoch: 104\nEpoch 1/1\n6784/6784 [==============================] - 2s - loss: 0.0370     \nEpoch: 105\nEpoch 1/1\n6784/6784 [==============================] - 2s - loss: 0.0370     \nEpoch: 106\nEpoch 1/1\n6784/6784 [==============================] - 2s - loss: 0.0369     \nEpoch: 107\nEpoch 1/1\n6784/6784 [==============================] - 2s - loss: 0.0368     \nEpoch: 108\nEpoch 1/1\n6784/6784 [==============================] - 2s - loss: 0.0368     \nEpoch: 109\nEpoch 1/1\n6784/6784 [==============================] - 2s - loss: 0.0367     \nEpoch: 110\nEpoch 1/1\n6784/6784 [==============================] - 2s - loss: 0.0367     \nEpoch: 111\nEpoch 1/1\n6784/6784 [==============================] - 2s - loss: 0.0366     \nEpoch: 112\nEpoch 1/1\n6784/6784 [==============================] - 2s - loss: 0.0366     \nEpoch: 113\nEpoch 1/1\n6784/6784 [==============================] - 2s - loss: 0.0366     \nEpoch: 114\nEpoch 1/1\n6784/6784 [==============================] - 2s - loss: 0.0364     \nEpoch: 115\nEpoch 1/1\n6784/6784 [==============================] - 2s - loss: 0.0365     \nEpoch: 116\nEpoch 1/1\n6784/6784 [==============================] - 2s - loss: 0.0364     \nEpoch: 117\nEpoch 1/1\n6784/6784 [==============================] - 2s - loss: 0.0363     \nEpoch: 118\nEpoch 1/1\n6784/6784 [==============================] - 2s - loss: 0.0362     \nEpoch: 119\nEpoch 1/1\n6784/6784 [==============================] - 2s - loss: 0.0362     \n"
                }
            ],
            "execution_count": 18
        },
        {
            "source": [
                "!pwd\n",
                "!ls models/*.h5"
            ],
            "cell_type": "code",
            "metadata": {},
            "outputs": [
                {
                    "output_type": "stream",
                    "name": "stdout",
                    "text": "/gpfs/fs01/user/sba4-025109b8cbf0b6-2883b35da29d/notebook/work\nmodels/my_model_with_mae_30_ts.h5\n"
                }
            ],
            "execution_count": 19
        },
        {
            "source": [
                "def get_test_length(dataset, batch_size):\n",
                "    \n",
                "    test_length_values = []\n",
                "    for x in range(len(dataset) - 200, len(dataset) - timesteps*2): \n",
                "        modulo=(x-upper_train)%batch_size\n",
                "        if (modulo == 0):\n",
                "            test_length_values.append(x)\n",
                "            print x\n",
                "    return (max(test_length_values))"
            ],
            "cell_type": "code",
            "metadata": {},
            "outputs": [],
            "execution_count": 20
        },
        {
            "source": [
                "test_length = get_test_length(df_data_1, batch_size)\n",
                "print(test_length)\n",
                "upper_test = test_length + timesteps*2\n",
                "testset_length = test_length - upper_train\n",
                "print testset_length"
            ],
            "cell_type": "code",
            "metadata": {},
            "outputs": [
                {
                    "output_type": "stream",
                    "name": "stdout",
                    "text": "7420\n7484\n7548\n7548\n704\n"
                }
            ],
            "execution_count": 21
        },
        {
            "source": [
                "print upper_train, upper_test, len(df_data_1)"
            ],
            "cell_type": "code",
            "metadata": {},
            "outputs": [
                {
                    "output_type": "stream",
                    "name": "stdout",
                    "text": "6844 7608 7609\n"
                }
            ],
            "execution_count": 22
        },
        {
            "source": [
                "# construct test set\n",
                "\n",
                "#subsetting\n",
                "df_data_1_test = df_data_1[upper_train:upper_test] \n",
                "test_set = df_data_1_test.iloc[:,1:2].values\n",
                "\n",
                "#scaling\n",
                "scaled_real_bcg_values_test = sc.fit_transform(np.float64(test_set))\n",
                "\n",
                "#creating input data\n",
                "X_test = []\n",
                "for i in range(timesteps, testset_length + timesteps):\n",
                "    X_test.append(scaled_real_bcg_values_test[i-timesteps:i, 0])\n",
                "X_test = np.array(X_test)\n",
                "\n",
                "\n",
                "#reshaping\n",
                "X_test = np.reshape(X_test, (X_test.shape[0], X_test.shape[1], 1))"
            ],
            "cell_type": "code",
            "metadata": {},
            "outputs": [],
            "execution_count": 23
        },
        {
            "source": [
                "#prediction\n",
                "predicted_bcg_values_test_mae = regressor_mae.predict(X_test, batch_size=batch_size)\n",
                "regressor_mae.reset_states()\n",
                "\n",
                "print predicted_bcg_values_test_mae.shape\n",
                "\n",
                "#reshaping\n",
                "predicted_bcg_values_test_mae = np.reshape(predicted_bcg_values_test_mae, \n",
                "                                       (predicted_bcg_values_test_mae.shape[0], \n",
                "                                        predicted_bcg_values_test_mae.shape[1]))\n",
                "\n",
                "print predicted_bcg_values_test_mae.shape\n",
                "#inverse transform\n",
                "predicted_bcg_values_test_mae = sc.inverse_transform(predicted_bcg_values_test_mae)\n",
                "\n",
                "\n",
                "#creating y_test data\n",
                "y_test = []\n",
                "for j in range(0, testset_length - timesteps):\n",
                "    y_test = np.append(y_test, predicted_bcg_values_test_mae[j, timesteps-1])\n",
                "\n",
                "# reshaping\n",
                "y_test = np.reshape(y_test, (y_test.shape[0], 1))\n",
                "\n",
                "print y_test.shape"
            ],
            "cell_type": "code",
            "metadata": {},
            "outputs": [
                {
                    "output_type": "stream",
                    "name": "stdout",
                    "text": "(704, 30, 1)\n(704, 30)\n(674, 1)\n"
                }
            ],
            "execution_count": 24
        },
        {
            "source": [
                "# Visualising the results\n",
                "plt.plot(test_set[timesteps:len(y_test)], color = 'red', label = 'Real Crude Oil Prices')\n",
                "plt.plot(y_test[0:len(y_test) - timesteps], color = 'blue', label = 'Predicted Crude Oil Prices')\n",
                "plt.title('Crude Oil Prices Prediction - MAE')\n",
                "plt.xlabel('Time')\n",
                "plt.ylabel('Crude Oil Prices')\n",
                "plt.legend()\n",
                "plt.show()"
            ],
            "cell_type": "code",
            "metadata": {},
            "outputs": [
                {
                    "output_type": "display_data",
                    "data": {
                        "image/png": "[encoded data removed]",
                        "text/plain": "<matplotlib.figure.Figure at 0x7fa9fdadce50>"
                    },
                    "metadata": {}
                }
            ],
            "execution_count": 25
        },
        {
            "source": [
                "\n",
                "import math\n",
                "from sklearn.metrics import mean_squared_error\n",
                "rmse = math.sqrt(mean_squared_error(test_set[timesteps:len(y_test)], y_test[0:len(y_test) - timesteps]))\n",
                "print(rmse)"
            ],
            "cell_type": "code",
            "metadata": {},
            "outputs": [
                {
                    "output_type": "stream",
                    "name": "stdout",
                    "text": "2.97348277151\n"
                }
            ],
            "execution_count": 26
        },
        {
            "source": [
                "from sklearn.metrics import mean_absolute_error\n",
                "mae = mean_absolute_error(test_set[timesteps:len(y_test)], y_test[0:len(y_test) - timesteps])\n",
                "print(mae)"
            ],
            "cell_type": "code",
            "metadata": {},
            "outputs": [
                {
                    "output_type": "stream",
                    "name": "stdout",
                    "text": "2.6177178502527085\n"
                }
            ],
            "execution_count": 27
        },
        {
            "source": [
                "import h5py\n",
                "regressor_mae.save(filepath=\"models/my_model_with_mae_30_ts.h5\")"
            ],
            "cell_type": "code",
            "metadata": {},
            "outputs": [],
            "execution_count": 28
        }
    ],
    "metadata": {
        "kernelspec": {
            "name": "python3",
            "display_name": "Python 3.8.3 64-bit (conda)",
            "metadata": {
                "interpreter": {
                    "hash": "b3ba2566441a7c06988d0923437866b63cedc61552a5af99d1f4fb67d367b25f"
                }
            }
        },
        "language_info": {
            "mimetype": "text/x-python",
            "nbconvert_exporter": "python",
            "version": "3.8.3-final",
            "name": "python",
            "pygments_lexer": "ipython2",
            "file_extension": ".py",
            "codemirror_mode": {
                "version": 2,
                "name": "ipython"
            }
        }
    },
    "nbformat": 4
}